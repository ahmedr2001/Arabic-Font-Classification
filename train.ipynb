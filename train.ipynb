{
 "cells": [
  {
   "cell_type": "code",
   "execution_count": 2,
   "metadata": {},
   "outputs": [],
   "source": [
    "import os\n",
    "import numpy as np\n",
    "import cv2\n",
    "import preprocessing  \n",
    "from feature_extraction import contruct_codebook, construct_bof_vector\n",
    "from sklearn.model_selection import train_test_split\n",
    "from sklearn.neighbors import KNeighborsClassifier\n",
    "from sklearn.metrics import accuracy_score\n",
    "from joblib import dump, load  # For model persistence"
   ]
  },
  {
   "cell_type": "code",
   "execution_count": 4,
   "metadata": {},
   "outputs": [
    {
     "name": "stdout",
     "output_type": "stream",
     "text": [
      "loading images ......\n",
      "Loading data is done ........\n"
     ]
    }
   ],
   "source": [
    "\n",
    "classes_dic = {\"IBM Plex Sans Arabic\" : 0, \"Lemonada\" : 1, \"Marhey\" : 2, \"Scheherazade New\" : 3}\n",
    "data_dir = \"fonts-dataset\"\n",
    "raw_images = []\n",
    "y = []\n",
    "print(\"loading images ......\")\n",
    "for class_name in os.listdir(data_dir):\n",
    "    class_path = os.path.join(data_dir, class_name)\n",
    "    for filename in os.listdir(class_path):\n",
    "        image_path = os.path.join(class_path, filename)\n",
    "        image = preprocessing.preprocess(image_path, 3, 3) \n",
    "        raw_images.append(image)\n",
    "        y.append(classes_dic[class_name])\n",
    "raw_images = np.array(raw_images)\n",
    "y = np.array(y)\n",
    "print(\"Loading data is done ........\")\n"
   ]
  },
  {
   "cell_type": "code",
   "execution_count": null,
   "metadata": {},
   "outputs": [],
   "source": [
    "print(\"constructing codebook ......\")\n",
    "codebook = contruct_codebook(raw_images)\n",
    "print(\"codebook is done ........\")\n",
    "np.save('codebook.npy', codebook)"
   ]
  },
  {
   "cell_type": "code",
   "execution_count": null,
   "metadata": {},
   "outputs": [],
   "source": [
    "x = np.zeros(len(y))\n",
    "\n",
    "for i in range(len(raw_images)):\n",
    "    x[i] = construct_bof_vector(raw_images[i], codebook)\n",
    "\n",
    "print(\"Bof vector in x is done .........\")"
   ]
  },
  {
   "cell_type": "code",
   "execution_count": null,
   "metadata": {},
   "outputs": [],
   "source": [
    "# Split data into training and testing sets (80% train, 20% test)\n",
    "X_train, X_test, y_train, y_test = train_test_split(x, y, test_size=0.2, random_state=42)  # Set random_state for reproducibility\n",
    "\n",
    "\n",
    "# Create and train the KNN model (experiment with different k values)\n",
    "knn = KNeighborsClassifier(n_neighbors=5)  # You can adjust n_neighbors\n",
    "knn.fit(X_train, y_train)\n",
    "\n",
    "(\"training data is done ...........\")\n",
    "# Make predictions on the test set\n",
    "y_pred = knn.predict(X_test)\n",
    "\n",
    "# Calculate accuracy\n",
    "accuracy = accuracy_score(y_test, y_pred)\n",
    "print(f\"Accuracy: {accuracy:.4f}\")\n",
    "\n",
    "# Optional: Save the trained model (using joblib)\n",
    "model_path = \"font_classification_model.pkl\"  # Replace with your desired path\n",
    "dump(knn, model_path)"
   ]
  }
 ],
 "metadata": {
  "kernelspec": {
   "display_name": "Python 3",
   "language": "python",
   "name": "python3"
  },
  "language_info": {
   "codemirror_mode": {
    "name": "ipython",
    "version": 3
   },
   "file_extension": ".py",
   "mimetype": "text/x-python",
   "name": "python",
   "nbconvert_exporter": "python",
   "pygments_lexer": "ipython3",
   "version": "3.11.4"
  }
 },
 "nbformat": 4,
 "nbformat_minor": 2
}
