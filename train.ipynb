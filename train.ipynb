{
 "cells": [
  {
   "cell_type": "code",
   "execution_count": 7,
   "metadata": {},
   "outputs": [],
   "source": [
    "import os\n",
    "import numpy as np\n",
    "import cv2\n",
    "import preprocessing  \n",
    "from feature_extraction import contruct_codebook, construct_bof_vector\n",
    "from sklearn.model_selection import train_test_split\n",
    "from sklearn.neighbors import KNeighborsClassifier\n",
    "from sklearn.metrics import accuracy_score\n",
    "from joblib import dump, load  # For model persistence\n",
    "from sklearn.decomposition import PCA\n",
    "from concurrent.futures import ThreadPoolExecutor\n",
    "\n"
   ]
  },
  {
   "cell_type": "code",
   "execution_count": 8,
   "metadata": {},
   "outputs": [
    {
     "name": "stdout",
     "output_type": "stream",
     "text": [
      "loading images ......\n"
     ]
    },
    {
     "ename": "error",
     "evalue": "OpenCV(4.9.0) :-1: error: (-5:Bad argument) in function 'medianBlur'\n> Overload resolution failed:\n>  - src is not a numpy array, neither a scalar\n>  - Expected Ptr<cv::UMat> for argument 'src'\n",
     "output_type": "error",
     "traceback": [
      "\u001b[1;31m---------------------------------------------------------------------------\u001b[0m",
      "\u001b[1;31merror\u001b[0m                                     Traceback (most recent call last)",
      "Cell \u001b[1;32mIn[8], line 10\u001b[0m\n\u001b[0;32m      8\u001b[0m     \u001b[38;5;28;01mfor\u001b[39;00m filename \u001b[38;5;129;01min\u001b[39;00m os\u001b[38;5;241m.\u001b[39mlistdir(class_path):\n\u001b[0;32m      9\u001b[0m         image_path \u001b[38;5;241m=\u001b[39m os\u001b[38;5;241m.\u001b[39mpath\u001b[38;5;241m.\u001b[39mjoin(class_path, filename)\n\u001b[1;32m---> 10\u001b[0m         image \u001b[38;5;241m=\u001b[39m \u001b[43mpreprocessing\u001b[49m\u001b[38;5;241;43m.\u001b[39;49m\u001b[43mpreprocess\u001b[49m\u001b[43m(\u001b[49m\u001b[43mimage_path\u001b[49m\u001b[43m,\u001b[49m\u001b[43m \u001b[49m\u001b[38;5;241;43m3\u001b[39;49m\u001b[43m,\u001b[49m\u001b[43m \u001b[49m\u001b[38;5;241;43m3\u001b[39;49m\u001b[43m)\u001b[49m \n\u001b[0;32m     11\u001b[0m         y\u001b[38;5;241m.\u001b[39mappend(classes_dic[class_name])\n\u001b[0;32m     12\u001b[0m raw_images \u001b[38;5;241m=\u001b[39m np\u001b[38;5;241m.\u001b[39marray(raw_images)\n",
      "File \u001b[1;32mc:\\Users\\malek\\OneDrive\\Desktop\\Arabic-Font-Recognition\\preprocessing.py:138\u001b[0m, in \u001b[0;36mpreprocess\u001b[1;34m(image, median_kernel_size, sharpen_kernel_size)\u001b[0m\n\u001b[0;32m    125\u001b[0m \u001b[38;5;250m\u001b[39m\u001b[38;5;124;03m\"\"\"\u001b[39;00m\n\u001b[0;32m    126\u001b[0m \u001b[38;5;124;03mPreprocesses an image by applying median filtering, Otsu's thresholding, and histogram equalization.\u001b[39;00m\n\u001b[0;32m    127\u001b[0m \n\u001b[1;32m   (...)\u001b[0m\n\u001b[0;32m    134\u001b[0m \u001b[38;5;124;03m    preprocessed_image: Binary image where text pixels are set to 255 and background pixels are set to 0.\u001b[39;00m\n\u001b[0;32m    135\u001b[0m \u001b[38;5;124;03m\"\"\"\u001b[39;00m\n\u001b[0;32m    137\u001b[0m \u001b[38;5;66;03m# Apply median filter\u001b[39;00m\n\u001b[1;32m--> 138\u001b[0m median_filtered_image \u001b[38;5;241m=\u001b[39m \u001b[43mmedian_filter\u001b[49m\u001b[43m(\u001b[49m\u001b[43mimage\u001b[49m\u001b[43m,\u001b[49m\u001b[43m \u001b[49m\u001b[43mmedian_kernel_size\u001b[49m\u001b[43m)\u001b[49m\n\u001b[0;32m    140\u001b[0m \u001b[38;5;66;03m# Detect salt and pepper noise\u001b[39;00m\n\u001b[0;32m    141\u001b[0m \u001b[38;5;66;03m# Check difference between original image and median filtered image\u001b[39;00m\n\u001b[0;32m    142\u001b[0m noise \u001b[38;5;241m=\u001b[39m np\u001b[38;5;241m.\u001b[39mabs(image \u001b[38;5;241m-\u001b[39m median_filtered_image)\n",
      "File \u001b[1;32mc:\\Users\\malek\\OneDrive\\Desktop\\Arabic-Font-Recognition\\preprocessing.py:58\u001b[0m, in \u001b[0;36mmedian_filter\u001b[1;34m(image, kernel_size)\u001b[0m\n\u001b[0;32m     56\u001b[0m \u001b[38;5;28;01mdef\u001b[39;00m \u001b[38;5;21mmedian_filter\u001b[39m(image, kernel_size):\n\u001b[0;32m     57\u001b[0m     \u001b[38;5;66;03m# Apply median filter\u001b[39;00m\n\u001b[1;32m---> 58\u001b[0m     filtered_image \u001b[38;5;241m=\u001b[39m \u001b[43mcv2\u001b[49m\u001b[38;5;241;43m.\u001b[39;49m\u001b[43mmedianBlur\u001b[49m\u001b[43m(\u001b[49m\u001b[43mimage\u001b[49m\u001b[43m,\u001b[49m\u001b[43m \u001b[49m\u001b[43mkernel_size\u001b[49m\u001b[43m)\u001b[49m\n\u001b[0;32m     60\u001b[0m     \u001b[38;5;28;01mreturn\u001b[39;00m filtered_image\n",
      "\u001b[1;31merror\u001b[0m: OpenCV(4.9.0) :-1: error: (-5:Bad argument) in function 'medianBlur'\n> Overload resolution failed:\n>  - src is not a numpy array, neither a scalar\n>  - Expected Ptr<cv::UMat> for argument 'src'\n"
     ]
    }
   ],
   "source": [
    "\n",
    "classes_dic = {\"IBM Plex Sans Arabic\" : 0, \"Lemonada\" : 1, \"Marhey\" : 2, \"Scheherazade New\" : 3}\n",
    "data_dir = \"fonts-dataset\"\n",
    "raw_images = []\n",
    "y = []\n",
    "print(\"loading images ......\")\n",
    "for class_name in os.listdir(data_dir):\n",
    "    class_path = os.path.join(data_dir, class_name)\n",
    "    for filename in os.listdir(class_path):\n",
    "        image_path = os.path.join(class_path, filename)\n",
    "        image = preprocessing.preprocess(image_path, 3, 3) \n",
    "        y.append(classes_dic[class_name])\n",
    "raw_images = np.array(raw_images)\n",
    "y = np.array(y)\n",
    "print(\"Loading data is done ........\")\n"
   ]
  },
  {
   "cell_type": "code",
   "execution_count": null,
   "metadata": {},
   "outputs": [],
   "source": [
    "print(\"constructing codebook ......\")\n",
    "codebook = contruct_codebook(raw_images)\n",
    "print(\"codebook is done ........\")\n",
    "np.save('codebook.npy', codebook)"
   ]
  }
 ],
 "metadata": {
  "kernelspec": {
   "display_name": "Python 3",
   "language": "python",
   "name": "python3"
  },
  "language_info": {
   "codemirror_mode": {
    "name": "ipython",
    "version": 3
   },
   "file_extension": ".py",
   "mimetype": "text/x-python",
   "name": "python",
   "nbconvert_exporter": "python",
   "pygments_lexer": "ipython3",
   "version": "3.11.4"
  }
 },
 "nbformat": 4,
 "nbformat_minor": 2
}
